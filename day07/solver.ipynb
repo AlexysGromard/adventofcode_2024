{
 "cells": [
  {
   "cell_type": "code",
   "execution_count": 42,
   "metadata": {},
   "outputs": [],
   "source": [
    "import itertools\n",
    "import re"
   ]
  },
  {
   "cell_type": "code",
   "execution_count": 43,
   "metadata": {},
   "outputs": [],
   "source": [
    "equations = []\n",
    "\n",
    "with open('input.txt', 'r') as file:\n",
    "    for line in file:\n",
    "        equations.append(line.strip())"
   ]
  },
  {
   "cell_type": "markdown",
   "metadata": {},
   "source": [
    "PART 1"
   ]
  },
  {
   "cell_type": "code",
   "execution_count": 44,
   "metadata": {},
   "outputs": [],
   "source": [
    "total_calibration_result = 0\n",
    "operators = ['+', '*']"
   ]
  },
  {
   "cell_type": "code",
   "execution_count": 45,
   "metadata": {},
   "outputs": [],
   "source": [
    "def get_equation(equation) -> (int, list[int]):\n",
    "    equation = equation.split(':')\n",
    "    # Get the result\n",
    "    result = int(equation[0])\n",
    "    # Get the numbers\n",
    "    numbers = list(map(int, equation[1].split()))\n",
    "    return result, numbers\n",
    "    \n",
    "def evaluate_equation(numbers, result) -> bool:\n",
    "    # Evaluation left -> right\n",
    "    # Split the equation \n",
    "    equation = re.findall(r'\\d+|\\+|\\*|\\|\\|', numbers)\n",
    "\n",
    "    # Convert the numbers to integers\n",
    "    equation = list(map(lambda x: int(x) if x.isdigit() else x, equation))\n",
    "    \n",
    "    # Evaluate the equation\n",
    "    res = equation[0]\n",
    "    for i in range(1, len(equation), 2):\n",
    "        if equation[i] == '+':\n",
    "            res += equation[i+1]\n",
    "        elif equation[i] == '*':\n",
    "            res *= equation[i+1]\n",
    "        elif equation[i] == '||':\n",
    "            res = int(str(res) + str(equation[i+1]))\n",
    "    \n",
    "    return res == result"
   ]
  },
  {
   "cell_type": "code",
   "execution_count": 46,
   "metadata": {},
   "outputs": [],
   "source": [
    "for equation in equations:\n",
    "    # Get the result and the numbers\n",
    "    result, numbers = get_equation(equation)\n",
    "\n",
    "    # Generate all permutations of the operators\n",
    "    combinations = list(itertools.product(operators, repeat=len(numbers)-1))\n",
    "\n",
    "    for combination in combinations:\n",
    "        # Generate the new equation\n",
    "        new_equation = str(numbers[0])\n",
    "        for i in range(len(combination)):\n",
    "            new_equation += combination[i] + str(numbers[i+1])\n",
    "\n",
    "        # Evaluate the new equation\n",
    "        if evaluate_equation(new_equation, result):\n",
    "            total_calibration_result += result\n",
    "            break\n"
   ]
  },
  {
   "cell_type": "code",
   "execution_count": 47,
   "metadata": {},
   "outputs": [
    {
     "name": "stdout",
     "output_type": "stream",
     "text": [
      "Total calibration result: 303766880536\n"
     ]
    }
   ],
   "source": [
    "print(f\"Total calibration result: {total_calibration_result}\")"
   ]
  },
  {
   "cell_type": "markdown",
   "metadata": {},
   "source": [
    "PART 2"
   ]
  },
  {
   "cell_type": "code",
   "execution_count": 48,
   "metadata": {},
   "outputs": [],
   "source": [
    "total_calibration_result = 0\n",
    "operators = ['+', '*', '||']"
   ]
  },
  {
   "cell_type": "code",
   "execution_count": 49,
   "metadata": {},
   "outputs": [],
   "source": [
    "for equation in equations:\n",
    "    # Get the result and the numbers\n",
    "    result, numbers = get_equation(equation)\n",
    "\n",
    "    # Generate all permutations of the operators\n",
    "    combinations = list(itertools.product(operators, repeat=len(numbers)-1))\n",
    "\n",
    "    for combination in combinations:\n",
    "        # Generate the new equation\n",
    "        new_equation = str(numbers[0])\n",
    "        for i in range(len(combination)):\n",
    "            new_equation += combination[i] + str(numbers[i+1])\n",
    "        # Evaluate the new equation\n",
    "        if evaluate_equation(new_equation, result):\n",
    "            total_calibration_result += result\n",
    "            break\n"
   ]
  },
  {
   "cell_type": "code",
   "execution_count": 50,
   "metadata": {},
   "outputs": [
    {
     "name": "stdout",
     "output_type": "stream",
     "text": [
      "Total calibration result: 337041851384440\n"
     ]
    }
   ],
   "source": [
    "print(f\"Total calibration result: {total_calibration_result}\")"
   ]
  }
 ],
 "metadata": {
  "kernelspec": {
   "display_name": "Python 3",
   "language": "python",
   "name": "python3"
  },
  "language_info": {
   "codemirror_mode": {
    "name": "ipython",
    "version": 3
   },
   "file_extension": ".py",
   "mimetype": "text/x-python",
   "name": "python",
   "nbconvert_exporter": "python",
   "pygments_lexer": "ipython3",
   "version": "3.12.3"
  }
 },
 "nbformat": 4,
 "nbformat_minor": 2
}
