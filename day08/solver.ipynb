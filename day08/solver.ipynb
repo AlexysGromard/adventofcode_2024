{
 "cells": [
  {
   "cell_type": "code",
   "execution_count": 150,
   "metadata": {},
   "outputs": [],
   "source": [
    "map = []\n",
    "\n",
    "with open('input.txt', 'r') as file:\n",
    "    for line in file:\n",
    "        map.append(line.strip())"
   ]
  },
  {
   "cell_type": "code",
   "execution_count": 151,
   "metadata": {},
   "outputs": [],
   "source": [
    "# Create a dictionary to store the coordinates of the antennas\n",
    "antenna = {}\n",
    "\n",
    "# Loop through the map and store the coordinates of the antennas\n",
    "for row in range(len(map)):\n",
    "    for col in range(len(map[row])):\n",
    "        if map[row][col] != '.':\n",
    "            if map[row][col] in antenna:\n",
    "                antenna[map[row][col]].append((row, col))\n",
    "            else:\n",
    "                antenna[map[row][col]] = [(row, col)]\n"
   ]
  },
  {
   "cell_type": "code",
   "execution_count": 152,
   "metadata": {},
   "outputs": [
    {
     "name": "stdout",
     "output_type": "stream",
     "text": [
      "0 [(0, 15), (1, 18), (5, 19)]\n",
      "1 [(3, 8), (6, 0), (11, 1), (16, 3)]\n",
      "2 [(40, 30), (42, 25), (43, 31), (49, 38)]\n",
      "3 [(4, 27), (11, 28), (12, 32), (13, 17)]\n",
      "4 [(24, 48), (33, 46), (34, 39), (37, 47)]\n",
      "5 [(19, 11), (29, 10), (30, 7), (32, 18)]\n",
      "6 [(17, 35), (18, 46), (23, 42), (28, 43)]\n",
      "7 [(14, 0), (22, 9), (25, 8), (37, 7)]\n",
      "8 [(9, 32), (14, 19), (16, 22), (19, 21)]\n",
      "9 [(23, 19), (26, 23), (28, 12), (39, 16)]\n",
      "A [(9, 22), (12, 21), (18, 32), (37, 35)]\n",
      "C [(3, 47), (7, 40), (10, 14), (16, 27)]\n",
      "D [(31, 7), (36, 11), (37, 14), (38, 8)]\n",
      "E [(0, 1), (4, 48), (9, 12), (11, 17)]\n",
      "F [(2, 42), (5, 41), (6, 45), (13, 40)]\n",
      "H [(23, 9), (40, 23), (42, 24), (43, 30)]\n",
      "J [(42, 21), (45, 29), (46, 18), (49, 22)]\n",
      "K [(4, 30), (13, 29), (15, 18), (16, 31)]\n",
      "L [(8, 2), (21, 5), (23, 6), (28, 9)]\n",
      "M [(24, 29), (29, 2), (34, 20), (35, 21)]\n",
      "N [(0, 16), (1, 8), (6, 21)]\n",
      "O [(21, 9), (25, 12), (30, 8), (34, 13)]\n",
      "P [(1, 17), (3, 22), (6, 14), (8, 9)]\n",
      "R [(25, 5), (28, 16), (30, 9), (33, 8)]\n",
      "T [(29, 8), (30, 29), (34, 0), (45, 1)]\n",
      "U [(9, 23), (13, 30), (18, 22), (20, 17)]\n",
      "V [(5, 11), (39, 10), (42, 3), (44, 16)]\n",
      "W [(33, 7), (36, 8), (38, 1)]\n",
      "Y [(33, 14), (35, 1), (38, 5), (42, 16)]\n",
      "a [(34, 42), (39, 34), (40, 29), (45, 33)]\n",
      "c [(19, 24), (23, 13), (24, 27), (28, 44)]\n",
      "d [(10, 35), (21, 43), (26, 46), (29, 44)]\n",
      "e [(33, 42), (36, 41), (37, 39), (38, 48)]\n",
      "f [(0, 26), (4, 37), (9, 39), (11, 38)]\n",
      "h [(17, 11), (36, 28), (38, 33), (39, 26)]\n",
      "j [(2, 7), (3, 9), (6, 8), (11, 0)]\n",
      "k [(44, 39), (45, 34), (49, 25)]\n",
      "l [(39, 18), (44, 27), (46, 24), (47, 17)]\n",
      "m [(0, 12), (7, 20), (8, 35)]\n",
      "n [(39, 44), (42, 43), (43, 49), (48, 48)]\n",
      "o [(31, 14), (32, 8), (36, 27), (37, 15)]\n",
      "p [(8, 14), (9, 19), (12, 17), (13, 20)]\n",
      "r [(13, 37), (14, 43), (18, 34), (31, 44)]\n",
      "t [(18, 37), (20, 34), (21, 29), (23, 24)]\n",
      "u [(15, 11), (32, 3), (45, 4), (48, 6)]\n",
      "v [(31, 24), (38, 37), (39, 47), (42, 42)]\n",
      "w [(8, 33), (10, 30), (11, 47), (13, 34)]\n",
      "y [(5, 15), (6, 19), (14, 10), (15, 8)]\n"
     ]
    }
   ],
   "source": [
    "# Print the coordinates of the antennas\n",
    "for key in sorted(antenna.keys()):\n",
    "    print(key, antenna[key])"
   ]
  },
  {
   "cell_type": "code",
   "execution_count": 153,
   "metadata": {},
   "outputs": [],
   "source": [
    "def calculate_antinode_position(antenna1, antenna2) -> tuple:\n",
    "    # Get the coordinates of the antennas\n",
    "    x1, y1 = antenna1\n",
    "    x2, y2 = antenna2\n",
    "\n",
    "    # Calculate the difference between the x and y coordinates of the antennas\n",
    "    dx = x2 - x1\n",
    "    dy = y2 - y1\n",
    "\n",
    "    # Calculate the coordinates of the antinode\n",
    "    antinode1 = (x1 - dx, y1 - dy)\n",
    "    antinode2 = (x2 + dx, y2 + dy)\n",
    "\n",
    "    return antinode1, antinode2"
   ]
  },
  {
   "cell_type": "code",
   "execution_count": 154,
   "metadata": {},
   "outputs": [],
   "source": [
    "antinodes_coordinates = []\n",
    "\n",
    "# Loop through the antennas and calculate the coordinates of the antinodes\n",
    "for key in antenna:\n",
    "    for i in range(len(antenna[key])):\n",
    "        for j in range(i + 1, len(antenna[key])):\n",
    "            antinode1, antinode2 = calculate_antinode_position(antenna[key][i], antenna[key][j])\n",
    "            # If antinodes are on the map, store the coordinates\n",
    "            if 0 <= antinode1[0] < len(map) and 0 <= antinode1[1] < len(map[0]):\n",
    "                antinodes_coordinates.append(antinode1)\n",
    "            if 0 <= antinode2[0] < len(map) and 0 <= antinode2[1] < len(map[0]):\n",
    "                antinodes_coordinates.append(antinode2)"
   ]
  },
  {
   "cell_type": "code",
   "execution_count": 155,
   "metadata": {},
   "outputs": [],
   "source": [
    "# # Print the coordinates of the antinodes\n",
    "# for antinode in antinodes_coordinates:\n",
    "#     print(antinode)"
   ]
  },
  {
   "cell_type": "code",
   "execution_count": 156,
   "metadata": {},
   "outputs": [
    {
     "name": "stdout",
     "output_type": "stream",
     "text": [
      "Number of unique locations: 323\n"
     ]
    }
   ],
   "source": [
    "# Calcukate the number of unique locations\n",
    "unique_locations = set(antinodes_coordinates)\n",
    "\n",
    "print(f\"Number of unique locations: {len(unique_locations)}\")"
   ]
  },
  {
   "cell_type": "markdown",
   "metadata": {},
   "source": [
    "PART 2"
   ]
  },
  {
   "cell_type": "code",
   "execution_count": 157,
   "metadata": {},
   "outputs": [],
   "source": [
    "def calculate_antinode_position_harmonic(antinode1, antinode2, map_x, map_y) -> list:\n",
    "    # Get the coordinates of the antinodes\n",
    "    x1, y1 = antinode1\n",
    "    x2, y2 = antinode2\n",
    "\n",
    "    # Calculate the difference between the x and y coordinates of the antinodes\n",
    "    dx = x2 - x1\n",
    "    dy = y2 - y1\n",
    "\n",
    "    # Calculate the coordinates of the antinode\n",
    "    antinodes = [(x1 - dx, y1 - dy)]\n",
    "\n",
    "    while antinodes[-1][0] >= 0 and antinodes[-1][1] >= 0:\n",
    "        antinodes.append((antinodes[-1][0] - dx, antinodes[-1][1] - dy))\n",
    "\n",
    "    antinodes.append((x2 + dx, y2 + dy))\n",
    "\n",
    "    while antinodes[-1][0] < map_x and antinodes[-1][1] < map_y:\n",
    "        antinodes.append((antinodes[-1][0] + dx, antinodes[-1][1] + dy))\n",
    "\n",
    "    if antinode1 == (0, 15) and antinode2 == (1, 18):\n",
    "        print(f\"Antinodes: {antinodes}\")\n",
    "    return antinodes\n"
   ]
  },
  {
   "cell_type": "code",
   "execution_count": 158,
   "metadata": {},
   "outputs": [
    {
     "name": "stdout",
     "output_type": "stream",
     "text": [
      "Map size: 50 x 50\n"
     ]
    }
   ],
   "source": [
    "map_x = len(map)\n",
    "map_y = len(map[0])\n",
    "\n",
    "print(f\"Map size: {map_x} x {map_y}\")"
   ]
  },
  {
   "cell_type": "code",
   "execution_count": 159,
   "metadata": {},
   "outputs": [
    {
     "name": "stdout",
     "output_type": "stream",
     "text": [
      "Antinodes: [(-1, 12), (2, 21), (3, 24), (4, 27), (5, 30), (6, 33), (7, 36), (8, 39), (9, 42), (10, 45), (11, 48), (12, 51)]\n",
      "Antinode: (2, 21)\n",
      "Antinode: (3, 24)\n",
      "Antinode: (4, 27)\n",
      "Antinode: (5, 30)\n",
      "Antinode: (6, 33)\n",
      "Antinode: (7, 36)\n",
      "Antinode: (8, 39)\n",
      "Antinode: (9, 42)\n",
      "Antinode: (10, 45)\n",
      "Antinode: (11, 48)\n"
     ]
    }
   ],
   "source": [
    "antinodes_coordinates_part_2 = []\n",
    "\n",
    "# Loop through the antennas and calculate the coordinates of the antinodes\n",
    "for key in antenna:\n",
    "    for i in range(len(antenna[key])):\n",
    "        for j in range(i + 1, len(antenna[key])):\n",
    "            antinodes = calculate_antinode_position_harmonic(antenna[key][i], antenna[key][j], map_x, map_y)\n",
    "\n",
    "            # If antinodes are on the map, store the coordinates\n",
    "            for antinode in antinodes:\n",
    "                if 0 <= antinode[0] < map_x and 0 <= antinode[1] < map_y:\n",
    "                    antinodes_coordinates_part_2.append(antinode)\n",
    "                    if antenna[key][i] == (0, 15) and antenna[key][j] == (1, 18):\n",
    "                        print(f\"Antinode: {antinode}\")\n",
    "    # If we have more than 2 antennas, add the antinodes in same location\n",
    "    if len(antenna[key]) > 2:\n",
    "        for i in range(len(antenna[key])):\n",
    "            antinodes_coordinates_part_2.append(antenna[key][i])\n"
   ]
  },
  {
   "cell_type": "code",
   "execution_count": 160,
   "metadata": {},
   "outputs": [
    {
     "name": "stdout",
     "output_type": "stream",
     "text": [
      "Number of unique locations: 1077\n"
     ]
    }
   ],
   "source": [
    "# Calcukate the number of unique locations\n",
    "unique_locations_part_2 = set(antinodes_coordinates_part_2)\n",
    "\n",
    "print(f\"Number of unique locations: {len(unique_locations_part_2)}\")"
   ]
  }
 ],
 "metadata": {
  "kernelspec": {
   "display_name": "Python 3",
   "language": "python",
   "name": "python3"
  },
  "language_info": {
   "codemirror_mode": {
    "name": "ipython",
    "version": 3
   },
   "file_extension": ".py",
   "mimetype": "text/x-python",
   "name": "python",
   "nbconvert_exporter": "python",
   "pygments_lexer": "ipython3",
   "version": "3.13.0"
  }
 },
 "nbformat": 4,
 "nbformat_minor": 2
}
