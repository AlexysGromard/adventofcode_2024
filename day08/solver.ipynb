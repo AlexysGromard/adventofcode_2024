{
 "cells": [
  {
   "cell_type": "code",
   "execution_count": 88,
   "metadata": {},
   "outputs": [],
   "source": [
    "map = []\n",
    "\n",
    "with open('input.txt', 'r') as file:\n",
    "    for line in file:\n",
    "        map.append(line.strip())"
   ]
  },
  {
   "cell_type": "code",
   "execution_count": 89,
   "metadata": {},
   "outputs": [],
   "source": [
    "# Create a dictionary to store the coordinates of the antennas\n",
    "antenna = {}\n",
    "\n",
    "# Loop through the map and store the coordinates of the antennas\n",
    "for row in range(len(map)):\n",
    "    for col in range(len(map[row])):\n",
    "        if map[row][col] != '.':\n",
    "            if map[row][col] in antenna:\n",
    "                antenna[map[row][col]].append((row, col))\n",
    "            else:\n",
    "                antenna[map[row][col]] = [(row, col)]\n"
   ]
  },
  {
   "cell_type": "code",
   "execution_count": 90,
   "metadata": {},
   "outputs": [],
   "source": [
    "# # Print the coordinates of the antennas\n",
    "# for key in sorted(antenna.keys()):\n",
    "#     print(key, antenna[key])"
   ]
  },
  {
   "cell_type": "code",
   "execution_count": 91,
   "metadata": {},
   "outputs": [],
   "source": [
    "def calculate_antinode_position(antenna1, antenna2) -> tuple:\n",
    "    # Get the coordinates of the antennas\n",
    "    x1, y1 = antenna1\n",
    "    x2, y2 = antenna2\n",
    "\n",
    "    # Calculate the difference between the x and y coordinates of the antennas\n",
    "    dx = x2 - x1\n",
    "    dy = y2 - y1\n",
    "\n",
    "    # Calculate the coordinates of the antinode\n",
    "    antinode1 = (x1 - dx, y1 - dy)\n",
    "    antinode2 = (x2 + dx, y2 + dy)\n",
    "\n",
    "    return antinode1, antinode2"
   ]
  },
  {
   "cell_type": "code",
   "execution_count": 92,
   "metadata": {},
   "outputs": [],
   "source": [
    "antinodes_coordinates = []\n",
    "\n",
    "# Loop through the antennas and calculate the coordinates of the antinodes\n",
    "for key in antenna:\n",
    "    for i in range(len(antenna[key])):\n",
    "        for j in range(i + 1, len(antenna[key])):\n",
    "            antinode1, antinode2 = calculate_antinode_position(antenna[key][i], antenna[key][j])\n",
    "            # If antinodes are on the map, store the coordinates\n",
    "            if 0 <= antinode1[0] < len(map) and 0 <= antinode1[1] < len(map[0]):\n",
    "                antinodes_coordinates.append(antinode1)\n",
    "            if 0 <= antinode2[0] < len(map) and 0 <= antinode2[1] < len(map[0]):\n",
    "                antinodes_coordinates.append(antinode2)\n"
   ]
  },
  {
   "cell_type": "code",
   "execution_count": 93,
   "metadata": {},
   "outputs": [],
   "source": [
    "# # Print the coordinates of the antinodes\n",
    "# for antinode in antinodes_coordinates:\n",
    "#     print(antinode)"
   ]
  },
  {
   "cell_type": "code",
   "execution_count": 94,
   "metadata": {},
   "outputs": [
    {
     "name": "stdout",
     "output_type": "stream",
     "text": [
      "Number of unique locations: 323\n"
     ]
    }
   ],
   "source": [
    "# Calcukate the number of unique locations\n",
    "unique_locations = set(antinodes_coordinates)\n",
    "\n",
    "print(f\"Number of unique locations: {len(unique_locations)}\")"
   ]
  }
 ],
 "metadata": {
  "kernelspec": {
   "display_name": "Python 3",
   "language": "python",
   "name": "python3"
  },
  "language_info": {
   "codemirror_mode": {
    "name": "ipython",
    "version": 3
   },
   "file_extension": ".py",
   "mimetype": "text/x-python",
   "name": "python",
   "nbconvert_exporter": "python",
   "pygments_lexer": "ipython3",
   "version": "3.13.0"
  }
 },
 "nbformat": 4,
 "nbformat_minor": 2
}
