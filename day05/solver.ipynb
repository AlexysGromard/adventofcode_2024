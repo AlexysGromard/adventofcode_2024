{
 "cells": [
  {
   "cell_type": "code",
   "execution_count": 123,
   "metadata": {},
   "outputs": [],
   "source": [
    "rules = []\n",
    "updates = []\n",
    "\n",
    "with open('input.txt', 'r') as file:\n",
    "    for line in file:\n",
    "        if '|' in line:\n",
    "            x1, x2 = line.split('|')\n",
    "            x1 = int(x1)\n",
    "            x2 = int(x2)\n",
    "            rules.append([x1, x2])\n",
    "        else:\n",
    "            list = []\n",
    "            for x in line.split(\",\"):\n",
    "                if x == \"\\n\":\n",
    "                    break\n",
    "                list.append(int(x))\n",
    "            updates.append(list)\n",
    "\n",
    "# Remove empty in update\n",
    "updates = updates[1:]"
   ]
  },
  {
   "cell_type": "code",
   "execution_count": 124,
   "metadata": {},
   "outputs": [],
   "source": [
    "update_list = []\n",
    "\n",
    "for update in updates:\n",
    "    good_update = True\n",
    "    for i in range(len(update)):\n",
    "        if i != len(update)-1:\n",
    "            # Vérifier que suivant respecte les règles\n",
    "            found = False\n",
    "            for rule in rules:\n",
    "                if rule[0] == update[i] and rule[1] == update[i+1]:\n",
    "                    found = True\n",
    "            if found == False:\n",
    "                good_update = False\n",
    "\n",
    "        if good_update == False:\n",
    "            break\n",
    "    if good_update:\n",
    "        update_list.append(update)\n"
   ]
  },
  {
   "cell_type": "code",
   "execution_count": 125,
   "metadata": {},
   "outputs": [],
   "source": [
    "# Prendre les millieux des listes\n",
    "middle = 0\n",
    "\n",
    "for update in update_list:\n",
    "    middle += update[len(update)//2]"
   ]
  },
  {
   "cell_type": "code",
   "execution_count": 126,
   "metadata": {},
   "outputs": [
    {
     "name": "stdout",
     "output_type": "stream",
     "text": [
      "4905\n"
     ]
    }
   ],
   "source": [
    "print(middle)"
   ]
  },
  {
   "cell_type": "code",
   "execution_count": 127,
   "metadata": {},
   "outputs": [],
   "source": [
    "def check_if_update_is_good(update, rules):\n",
    "    good_update = True\n",
    "    for i in range(len(update)):\n",
    "        if i != len(update)-1:\n",
    "            # Vérifier que suivant respecte les règles\n",
    "            found = False\n",
    "            for rule in rules:\n",
    "                if rule[0] == update[i] and rule[1] == update[i+1]:\n",
    "                    found = True\n",
    "            if found == False:\n",
    "                good_update = False\n",
    "\n",
    "        if good_update == False:\n",
    "            break\n",
    "    return good_update"
   ]
  },
  {
   "cell_type": "code",
   "execution_count": null,
   "metadata": {},
   "outputs": [],
   "source": [
    "update_changed_list = []\n",
    "\n",
    "for update in updates:\n",
    "    good_update = check_if_update_is_good(update, rules)\n",
    "    if good_update == False:\n",
    "        # Try to change it\n",
    "        for j in range(100):\n",
    "            for i in range(len(update)-1):\n",
    "                # Si ils correspondent pas à une règle\n",
    "                if not [update[i], update[i+1]] in rules:\n",
    "                    # On inverse les deux\n",
    "                    update[i], update[i+1] = update[i+1], update[i]\n",
    "            if check_if_update_is_good(update, rules):\n",
    "                update_changed_list.append(update)\n",
    "                break"
   ]
  },
  {
   "cell_type": "code",
   "execution_count": 129,
   "metadata": {},
   "outputs": [
    {
     "name": "stdout",
     "output_type": "stream",
     "text": [
      "[[59, 85, 48, 82, 55], [12, 61, 55, 67, 36, 96, 11, 17, 84, 76, 22, 79, 26, 43, 46, 44, 32, 33, 27, 77, 41, 24, 39], [17, 76, 79, 26, 44, 32, 27, 24, 35], [95, 87, 92, 54, 59, 31, 16], [82, 98, 97, 61, 96, 76, 44], [46, 32, 27, 77, 47, 92, 88, 31, 99], [26, 43, 46, 44, 32, 33, 27, 77, 41, 24, 39, 35, 95, 47, 72, 83, 87, 75, 92, 88, 59], [54, 88, 74, 31, 16, 99, 85, 48, 78, 82, 98, 97, 63, 45, 12, 61, 67, 96, 11], [67, 36, 96, 11, 17, 84, 76, 79, 43, 66, 46, 44, 32, 33, 27, 41, 24, 39, 35, 95, 47], [22, 46, 44, 33, 77, 39, 35, 95, 47, 87, 92], [54, 74, 99, 82, 63, 69, 55, 96, 11]]\n"
     ]
    }
   ],
   "source": [
    "print(update_changed_list)"
   ]
  },
  {
   "cell_type": "code",
   "execution_count": 130,
   "metadata": {},
   "outputs": [],
   "source": [
    "# Sum of the middle\n",
    "middle_changed = 0\n",
    "\n",
    "for update in update_changed_list:\n",
    "    middle_changed += update[len(update)//2]"
   ]
  },
  {
   "cell_type": "code",
   "execution_count": 131,
   "metadata": {},
   "outputs": [
    {
     "name": "stdout",
     "output_type": "stream",
     "text": [
      "602\n"
     ]
    }
   ],
   "source": [
    "print(middle_changed)"
   ]
  },
  {
   "cell_type": "code",
   "execution_count": null,
   "metadata": {},
   "outputs": [],
   "source": []
  }
 ],
 "metadata": {
  "kernelspec": {
   "display_name": "Python 3",
   "language": "python",
   "name": "python3"
  },
  "language_info": {
   "codemirror_mode": {
    "name": "ipython",
    "version": 3
   },
   "file_extension": ".py",
   "mimetype": "text/x-python",
   "name": "python",
   "nbconvert_exporter": "python",
   "pygments_lexer": "ipython3",
   "version": "3.13.0"
  }
 },
 "nbformat": 4,
 "nbformat_minor": 2
}
