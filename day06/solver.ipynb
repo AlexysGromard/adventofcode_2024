{
 "cells": [
  {
   "cell_type": "code",
   "execution_count": 1,
   "metadata": {},
   "outputs": [],
   "source": [
    "map = []\n",
    "\n",
    "with open('input.txt', 'r') as file:\n",
    "    for line in file:\n",
    "        map.append(line.strip())"
   ]
  },
  {
   "cell_type": "code",
   "execution_count": 2,
   "metadata": {},
   "outputs": [],
   "source": [
    "# Pour toutes les lignes, split caractère par caractère\n",
    "for i in range(len(map)):\n",
    "    map[i] = list(map[i])"
   ]
  },
  {
   "cell_type": "code",
   "execution_count": 3,
   "metadata": {},
   "outputs": [],
   "source": [
    "# Find gardien position\n",
    "for row in range(len(map)):\n",
    "    for col in range(len(map[row])):\n",
    "        if map[row][col] == '^' or map[row][col] == 'v' or map[row][col] == '<' or map[row][col] == '>':\n",
    "            gardien = (row, col)\n",
    "            break\n",
    "\n",
    "# Tant que le gardien est sur la map\n",
    "while gardien[0] >= 0 and gardien[0] < len(map) and gardien[1] >= 0 and gardien[1] < len(map[0]):\n",
    "    # Si le gardien est vers le haut\n",
    "    if map[gardien[0]][gardien[1]] == '^':\n",
    "        # Si voisin du haut est un obstacle\n",
    "        if gardien[0] - 1 >= 0 and map[gardien[0] - 1][gardien[1]] == '#':\n",
    "            # Tourner de 90° à droite\n",
    "            map[gardien[0]][gardien[1]] = '>'\n",
    "        else:\n",
    "            # Avancer\n",
    "            map[gardien[0]][gardien[1]] = 'X'\n",
    "            gardien = (gardien[0] - 1, gardien[1])\n",
    "            if gardien[0] >= 0 and gardien[0] + 1 < len(map) and gardien[1] - 1 >= 0 and gardien[1] + 1 < len(map[0]):\n",
    "                map[gardien[0]][gardien[1]] = '^'\n",
    "            else :\n",
    "                break\n",
    "    # Si le gardien est vers le bas\n",
    "    elif map[gardien[0]][gardien[1]] == 'v':\n",
    "        # Si voisin du bas est un obstacle\n",
    "        if gardien[0] + 1 < len(map) and map[gardien[0] + 1][gardien[1]] == '#':\n",
    "            # Tourner de 90° à droite\n",
    "            map[gardien[0]][gardien[1]] = '<'\n",
    "        else:\n",
    "            # Avancer\n",
    "            map[gardien[0]][gardien[1]] = 'X'\n",
    "            gardien = (gardien[0] + 1, gardien[1])\n",
    "            if gardien[0] >= 0 and gardien[0] + 1 < len(map) and gardien[1] - 1 >= 0 and gardien[1] + 1 < len(map[0]):\n",
    "                map[gardien[0]][gardien[1]] = 'v'\n",
    "            else :\n",
    "                break\n",
    "    # Si le gardien est vers la gauche\n",
    "    elif map[gardien[0]][gardien[1]] == '<':\n",
    "        # Si voisin de gauche est un obstacle\n",
    "        if gardien[1] - 1 >= 0 and map[gardien[0]][gardien[1] - 1] == '#':\n",
    "            # Tourner de 90° à droite\n",
    "            map[gardien[0]][gardien[1]] = '^'\n",
    "        else:\n",
    "            # Avancer\n",
    "            map[gardien[0]][gardien[1]] = 'X'\n",
    "            gardien = (gardien[0], gardien[1] - 1)\n",
    "            if gardien[0] >= 0 and gardien[0] + 1 < len(map) and gardien[1] - 1 >= 0 and gardien[1] + 1 < len(map[0]):\n",
    "                map[gardien[0]][gardien[1]] = '<'\n",
    "            else :\n",
    "                break\n",
    "    # Si le gardien est vers la droite\n",
    "    elif map[gardien[0]][gardien[1]] == '>':\n",
    "        # Si voisin de droite est un obstacle\n",
    "        if gardien[1] + 1 < len(map[0]) and map[gardien[0]][gardien[1] + 1] == '#':\n",
    "            # Tourner de 90° à droite\n",
    "            map[gardien[0]][gardien[1]] = 'v'\n",
    "        else:\n",
    "            # Avancer\n",
    "            map[gardien[0]][gardien[1]] = 'X'\n",
    "            gardien = (gardien[0], gardien[1] + 1)\n",
    "            if gardien[0] >= 0 and gardien[0] + 1 < len(map) and gardien[1] - 1 >= 0 and gardien[1] + 1 < len(map[0]):\n",
    "                map[gardien[0]][gardien[1]] = '>'\n",
    "            else :\n",
    "                break\n",
    "# Dernière position du gardien\n",
    "map[gardien[0]][gardien[1]] = 'X'"
   ]
  },
  {
   "cell_type": "code",
   "execution_count": 4,
   "metadata": {},
   "outputs": [
    {
     "name": "stdout",
     "output_type": "stream",
     "text": [
      "4647\n"
     ]
    }
   ],
   "source": [
    "# Count number of X\n",
    "count = 0\n",
    "for row in range(len(map)):\n",
    "    for col in range(len(map[row])):\n",
    "        if map[row][col] == 'X':\n",
    "            count += 1\n",
    "\n",
    "print(count)"
   ]
  },
  {
   "cell_type": "code",
   "execution_count": 5,
   "metadata": {},
   "outputs": [
    {
     "name": "stdout",
     "output_type": "stream",
     "text": [
      "109 129\n"
     ]
    }
   ],
   "source": [
    "#Trouver le X de sortie\n",
    "for row in range(len(map)):\n",
    "    for col in range(len(map[row])):\n",
    "        if map[row][col] == 'X' and (row == 0 or row == len(map) - 1 or col == 0 or col == len(map[row]) - 1):\n",
    "            print(row, col)\n",
    "            break"
   ]
  },
  {
   "cell_type": "code",
   "execution_count": 6,
   "metadata": {},
   "outputs": [],
   "source": [
    "def print_map(map):\n",
    "    for row in map:\n",
    "        print(''.join(row))"
   ]
  }
 ],
 "metadata": {
  "kernelspec": {
   "display_name": "Python 3",
   "language": "python",
   "name": "python3"
  },
  "language_info": {
   "codemirror_mode": {
    "name": "ipython",
    "version": 3
   },
   "file_extension": ".py",
   "mimetype": "text/x-python",
   "name": "python",
   "nbconvert_exporter": "python",
   "pygments_lexer": "ipython3",
   "version": "3.13.0"
  }
 },
 "nbformat": 4,
 "nbformat_minor": 2
}
