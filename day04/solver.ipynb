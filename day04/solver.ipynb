{
 "cells": [
  {
   "cell_type": "code",
   "execution_count": 69,
   "metadata": {},
   "outputs": [],
   "source": [
    "words = []\n",
    "\n",
    "with open('input.txt', 'r') as file:\n",
    "    for line in file:\n",
    "        words.append(line.strip())"
   ]
  },
  {
   "cell_type": "code",
   "execution_count": 70,
   "metadata": {},
   "outputs": [],
   "source": [
    "number_of_words = 0\n",
    "\n",
    "for row in range(len(words)):\n",
    "    for col in range(len(words[row])):\n",
    "        # Select the possible words (4 characters long)\n",
    "        possible_words = [\n",
    "            words[row-2][col-2] if row-2 >= 0 and col-2 >= 0 else \"\", # -2, -2\n",
    "            words[row-2][col-1] if row-2 >= 0 and col-1 >= 0 else \"\", # -2, -1\n",
    "            words[row-2][col] if row-2 >= 0 else \"\", # -2, 0\n",
    "            words[row-2][col+1] if row-2 >= 0 and col+1 < len(words[row-2]) else \"\", # -2, 1\n",
    "            words[row-1][col-2] if row-1 >= 0 and col-2 >= 0 else \"\", # -1, -2\n",
    "            words[row-1][col-1] if row-1 >= 0 and col-1 >= 0 else \"\", # -1, -1\n",
    "            words[row-1][col] if row-1 >= 0 else \"\", # -1, 0\n",
    "            words[row-1][col+1] if row-1 >= 0 and col+1 < len(words[row-1]) else \"\", # -1, 1\n",
    "            words[row][col-2] if col-2 >= 0 else \"\", # 0, -2\n",
    "            words[row][col-1] if col-1 >= 0 else \"\",  # 0, -1\n",
    "            words[row][col], # 0, 0\n",
    "            words[row][col+1] if col+1 < len(words[row]) else \"\", # 0, 1\n",
    "            words[row+1][col-2] if row+1 < len(words) and col-2 >= 0 else \"\", # 1, -2\n",
    "            words[row+1][col-1] if row+1 < len(words) and col-1 >= 0 else \"\", # 1, -1\n",
    "            words[row+1][col] if row+1 < len(words) else \"\", # 1, 0\n",
    "            words[row+1][col+1] if row+1 < len(words) and col+1 < len(words[row+1]) else \"\", # 1, 1\n",
    "        ]\n",
    "        # Structure of the possible words\n",
    "        # 0, 0, 0, 0\n",
    "        # 0, 0, 0, 0\n",
    "        # 0, 0, X, 0\n",
    "        # 0, 0, 0, 0\n",
    "\n",
    "\n",
    "        # Get the possible words (horizontal, diagonal, vertical)\n",
    "        hor = ''.join(possible_words[8:12])\n",
    "        diag_one = ''.join([possible_words[0], possible_words[5], possible_words[10], possible_words[15]])\n",
    "        diag_two = ''.join([possible_words[3], possible_words[6], possible_words[9], possible_words[12]])\n",
    "        vert = ''.join([possible_words[2], possible_words[6], possible_words[10], possible_words[14]])\n",
    "\n",
    "        # Check if the word is in the possible words\n",
    "        if hor == \"XMAS\" or hor == \"SAMX\":\n",
    "            number_of_words += 1\n",
    "        if diag_one == \"XMAS\" or diag_one == \"SAMX\":\n",
    "            number_of_words += 1\n",
    "        if diag_two == \"XMAS\" or diag_two == \"SAMX\":\n",
    "            number_of_words += 1\n",
    "        if vert == \"XMAS\" or vert == \"SAMX\":\n",
    "            number_of_words += 1\n"
   ]
  },
  {
   "cell_type": "code",
   "execution_count": 71,
   "metadata": {},
   "outputs": [
    {
     "name": "stdout",
     "output_type": "stream",
     "text": [
      "2401\n"
     ]
    }
   ],
   "source": [
    "print(number_of_words)"
   ]
  },
  {
   "cell_type": "code",
   "execution_count": 72,
   "metadata": {},
   "outputs": [],
   "source": [
    "number_of_words = 0\n",
    "\n",
    "for row in range(len(words)):\n",
    "    for col in range(len(words[row])):\n",
    "        # Select the possible words (4 characters long)\n",
    "        possible_words = [\n",
    "            words[row-1][col-1] if row-1 >= 0 and col-1 >= 0 else \"\", # -1, -1\n",
    "            \"\", # -1, 0\n",
    "            words[row-1][col+1] if row-1 >= 0 and col+1 < len(words[row-1]) else \"\", # -1, 1\n",
    "            \"\", # 0, -1\n",
    "            words[row][col], # 0, 0\n",
    "            \"\", # 0, 1\n",
    "            words[row+1][col-1] if row+1 < len(words) and col-1 >= 0 else \"\", # 1, -1\n",
    "            \"\", # 1, 0\n",
    "            words[row+1][col+1] if row+1 < len(words) and col+1 < len(words[row+1]) else \"\", # 1, 1\n",
    "        ]\n",
    "\n",
    "        # Structure of the possible words\n",
    "        # 0, 0, 0\n",
    "        # 0, X, 0\n",
    "        # 0, 0, 0\n",
    "\n",
    "        # Get the possible words in the diagonals\n",
    "        diag_one = ''.join([possible_words[0], possible_words[4], possible_words[8]])\n",
    "        diag_two = ''.join([possible_words[2], possible_words[4], possible_words[6]])\n",
    "\n",
    "        # Check if the word is in the possible words\n",
    "        if (diag_one == \"MAS\" or diag_one == \"SAM\") and (diag_two == \"MAS\" or diag_two == \"SAM\"):\n",
    "            number_of_words += 1\n"
   ]
  },
  {
   "cell_type": "code",
   "execution_count": 73,
   "metadata": {},
   "outputs": [
    {
     "name": "stdout",
     "output_type": "stream",
     "text": [
      "1822\n"
     ]
    }
   ],
   "source": [
    "print(number_of_words)"
   ]
  }
 ],
 "metadata": {
  "kernelspec": {
   "display_name": "Python 3",
   "language": "python",
   "name": "python3"
  },
  "language_info": {
   "codemirror_mode": {
    "name": "ipython",
    "version": 3
   },
   "file_extension": ".py",
   "mimetype": "text/x-python",
   "name": "python",
   "nbconvert_exporter": "python",
   "pygments_lexer": "ipython3",
   "version": "3.13.0"
  }
 },
 "nbformat": 4,
 "nbformat_minor": 2
}
