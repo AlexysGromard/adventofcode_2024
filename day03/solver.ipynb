{
 "cells": [
  {
   "cell_type": "code",
   "execution_count": 36,
   "metadata": {},
   "outputs": [],
   "source": [
    "import re"
   ]
  },
  {
   "cell_type": "code",
   "execution_count": 37,
   "metadata": {},
   "outputs": [],
   "source": [
    "memory = []\n",
    "\n",
    "with open('input.txt', 'r') as file:\n",
    "    for line in file:\n",
    "        memory.append(line.strip())"
   ]
  },
  {
   "cell_type": "code",
   "execution_count": 38,
   "metadata": {},
   "outputs": [],
   "source": [
    "sum_of_mul = 0\n",
    "# Analyze the all PC memory\n",
    "# Find a pattern like \"mul(int[1:3], int[1:3])\"\n",
    "pattern = r\"mul\\((\\d{1,3}),(\\d{1,3})\\)\"\n",
    "\n",
    "# For each item in memory\n",
    "for item in memory:\n",
    "    matches = re.findall(pattern, item)  # Find all matches\n",
    "    for match in matches:\n",
    "        # Extract the two numbers\n",
    "        num1, num2 = map(int, match)\n",
    "        sum_of_mul += num1 * num2  # Add the multiplication result to the sum\n"
   ]
  },
  {
   "cell_type": "code",
   "execution_count": 39,
   "metadata": {},
   "outputs": [
    {
     "name": "stdout",
     "output_type": "stream",
     "text": [
      "188741603\n"
     ]
    }
   ],
   "source": [
    "print(sum_of_mul)"
   ]
  },
  {
   "cell_type": "code",
   "execution_count": 40,
   "metadata": {},
   "outputs": [],
   "source": [
    "results = []\n",
    "\n",
    "combined_pattern = r\"(do\\(\\))|(don't\\(\\))|mul[\\(\\[\\{](\\d{1,3}),(\\d{1,3})[\\)\\]\\}]\"\n",
    "\n",
    "# Search for the pattern in the memory\n",
    "for item in memory:\n",
    "    matches = re.finditer(combined_pattern, item)  # Search for the pattern for do(), don't() and mul(x, y)\n",
    "    for match in matches:\n",
    "        # Check if the match is for do(), don't() or mul(x, y) and add the result to the list\n",
    "        if match.group(1):  # do()\n",
    "            results.append((\"do\", match.group(1)))\n",
    "        elif match.group(2):  # don't()\n",
    "            results.append((\"dont\", match.group(2)))\n",
    "        elif match.group(3) and match.group(4):  # mul(x, y)\n",
    "            results.append((\"mul\", (int(match.group(3)), int(match.group(4)))))\n"
   ]
  },
  {
   "cell_type": "code",
   "execution_count": 41,
   "metadata": {},
   "outputs": [],
   "source": [
    "# Calculating the final result\n",
    "do=True\n",
    "dont=False\n",
    "\n",
    "final_result = 0\n",
    "\n",
    "for result in results:\n",
    "    if result[0] == \"do\":\n",
    "        do = True\n",
    "        dont = False\n",
    "    elif result[0] == \"dont\":\n",
    "        dont = True\n",
    "        do = False\n",
    "    elif result[0] == \"mul\":\n",
    "        if do and not dont:\n",
    "            final_result += result[1][0] * result[1][1]"
   ]
  },
  {
   "cell_type": "code",
   "execution_count": 42,
   "metadata": {},
   "outputs": [
    {
     "name": "stdout",
     "output_type": "stream",
     "text": [
      "67269798\n"
     ]
    }
   ],
   "source": [
    "print(final_result)"
   ]
  }
 ],
 "metadata": {
  "kernelspec": {
   "display_name": "Python 3",
   "language": "python",
   "name": "python3"
  },
  "language_info": {
   "codemirror_mode": {
    "name": "ipython",
    "version": 3
   },
   "file_extension": ".py",
   "mimetype": "text/x-python",
   "name": "python",
   "nbconvert_exporter": "python",
   "pygments_lexer": "ipython3",
   "version": "3.13.0"
  }
 },
 "nbformat": 4,
 "nbformat_minor": 2
}
