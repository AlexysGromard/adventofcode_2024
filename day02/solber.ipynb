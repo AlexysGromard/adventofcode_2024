{
 "cells": [
  {
   "cell_type": "markdown",
   "metadata": {},
   "source": [
    "#### Part 1:\n",
    "We check if the given report is valid or not. It's valid if the values are increasing or decreasing and the difference between the values is <= 3 and >= 1."
   ]
  },
  {
   "cell_type": "code",
   "execution_count": 95,
   "metadata": {},
   "outputs": [],
   "source": [
    "reports = []\n",
    "\n",
    "with open('input.txt', 'r') as file:\n",
    "    for line in file:\n",
    "        reports.append([int(x) for x in line.split()])"
   ]
  },
  {
   "cell_type": "code",
   "execution_count": 96,
   "metadata": {},
   "outputs": [],
   "source": [
    "good_reports = 0\n",
    "\n",
    "for report in reports:\n",
    "    type = 0\n",
    "\n",
    "    for i in range(len(report)-1):\n",
    "        # Type (1: dicresing, 2: increasing)\n",
    "        if type == 0 and report[i] > report[i+1]:\n",
    "            type = 1\n",
    "        elif type == 0 and report[i] < report[i+1]:\n",
    "            type = 2\n",
    "        elif type == 0 and report[i] == report[i+1]:\n",
    "            break\n",
    "\n",
    "        # Case 1: Decreasing\n",
    "        if type == 1:\n",
    "            if report[i] <= report[i+1]: # If the report is increasing or equal\n",
    "                break\n",
    "\n",
    "        # Case 2: Increasing\n",
    "        elif type == 2:\n",
    "            if report[i] >= report[i+1]: # If the report is decreasing or equal\n",
    "                break\n",
    "\n",
    "        # Check if the difference is >= 1 and <= 3\n",
    "        if abs(report[i] - report[i+1]) > 3 or abs(report[i] - report[i+1]) < 1:\n",
    "            break\n",
    "\n",
    "        # The report is good, append 1\n",
    "        if i == len(report)-2:\n",
    "            good_reports += 1\n"
   ]
  },
  {
   "cell_type": "code",
   "execution_count": 97,
   "metadata": {},
   "outputs": [
    {
     "name": "stdout",
     "output_type": "stream",
     "text": [
      "510\n"
     ]
    }
   ],
   "source": [
    "print(good_reports)"
   ]
  },
  {
   "cell_type": "markdown",
   "metadata": {},
   "source": [
    "#### Part 2:\n",
    "We check if the given report is valid or not. It's valid if the values are increasing or decreasing and the difference between the values is <= 3 and >= 1. We have a tolerence of 1. So, we can delete any value from the report."
   ]
  },
  {
   "cell_type": "code",
   "execution_count": 98,
   "metadata": {},
   "outputs": [],
   "source": [
    "def test_report(report):\n",
    "    type = 0\n",
    "    for i in range(len(report)-1):\n",
    "        # Type (1: dicresing, 2: increasing)\n",
    "        if type == 0 and report[i] > report[i+1]:\n",
    "            type = 1\n",
    "        elif type == 0 and report[i] < report[i+1]:\n",
    "            type = 2\n",
    "        elif type == 0 and report[i] == report[i+1]:\n",
    "            return 0\n",
    "\n",
    "        # Case 1: Decreasing\n",
    "        if type == 1:\n",
    "            if report[i] <= report[i+1]: # If the report is increasing or equal\n",
    "                return 0\n",
    "\n",
    "        # Case 2: Increasing\n",
    "        elif type == 2:\n",
    "            if report[i] >= report[i+1]: # If the report is decreasing or equal\n",
    "                return 0\n",
    "\n",
    "        # Check if the difference is >= 1 and <= 3\n",
    "        if abs(report[i] - report[i+1]) > 3 or abs(report[i] - report[i+1]) < 1:\n",
    "            return 0\n",
    "\n",
    "        # The report is good, append 1\n",
    "        if i == len(report)-2:\n",
    "            return 1\n"
   ]
  },
  {
   "cell_type": "code",
   "execution_count": 99,
   "metadata": {},
   "outputs": [],
   "source": [
    "def can_be_sorted_by_removing_one(lst):\n",
    "    if test_report(lst):\n",
    "        return True, None  # Déjà triée et respecte la condition\n",
    "    for i in range(len(lst)):\n",
    "        # Crée une liste sans l'élément à l'index i\n",
    "        temp_lst = lst[:i] + lst[i+1:]\n",
    "        if test_report(temp_lst):\n",
    "            return True, lst[i]  # Trouvé, retourne l'élément à supprimer\n",
    "    return False, None  # Impossible de trier en supprimant un seul élément\n"
   ]
  },
  {
   "cell_type": "code",
   "execution_count": 100,
   "metadata": {},
   "outputs": [],
   "source": [
    "good_reports = 0\n",
    "\n",
    "for report in reports:\n",
    "    can_be_sorted, element = can_be_sorted_by_removing_one(report)\n",
    "    if can_be_sorted:\n",
    "        good_reports += 1\n"
   ]
  },
  {
   "cell_type": "code",
   "execution_count": 101,
   "metadata": {},
   "outputs": [
    {
     "name": "stdout",
     "output_type": "stream",
     "text": [
      "553\n"
     ]
    }
   ],
   "source": [
    "print(good_reports)"
   ]
  }
 ],
 "metadata": {
  "kernelspec": {
   "display_name": "Python 3",
   "language": "python",
   "name": "python3"
  },
  "language_info": {
   "codemirror_mode": {
    "name": "ipython",
    "version": 3
   },
   "file_extension": ".py",
   "mimetype": "text/x-python",
   "name": "python",
   "nbconvert_exporter": "python",
   "pygments_lexer": "ipython3",
   "version": "3.13.0"
  }
 },
 "nbformat": 4,
 "nbformat_minor": 2
}
