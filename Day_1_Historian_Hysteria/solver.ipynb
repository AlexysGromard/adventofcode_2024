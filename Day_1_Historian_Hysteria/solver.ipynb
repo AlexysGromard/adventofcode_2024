{
 "cells": [
  {
   "cell_type": "code",
   "execution_count": 68,
   "metadata": {},
   "outputs": [],
   "source": [
    "# Import .txt file and extract columns into two lists\n",
    "column_1, column_2 = [], []\n",
    "\n",
    "with open('input.txt', 'r') as file:\n",
    "\n",
    "    for line in file:\n",
    "        col1, col2 = map(int, line.split())\n",
    "        column_1.append(col1)\n",
    "        column_2.append(col2)\n"
   ]
  },
  {
   "cell_type": "code",
   "execution_count": 69,
   "metadata": {},
   "outputs": [],
   "source": [
    "# Check if the columns are extracted correctly and has the same length\n",
    "if len(column_1) != len(column_2) and len(column_1) > 0:\n",
    "    print('Error: The columns are not extracted correctly')"
   ]
  },
  {
   "cell_type": "markdown",
   "metadata": {},
   "source": [
    "#### Part 1"
   ]
  },
  {
   "cell_type": "code",
   "execution_count": 70,
   "metadata": {},
   "outputs": [],
   "source": [
    "# Initialize the list to store the distance between the points\n",
    "distance = []\n",
    "\n",
    "# Copy the columns to new lists\n",
    "column_1_copy = column_1.copy()\n",
    "column_2_copy = column_2.copy()"
   ]
  },
  {
   "cell_type": "code",
   "execution_count": 71,
   "metadata": {},
   "outputs": [],
   "source": [
    "while len(column_1_copy) > 0:\n",
    "    # Select min into column_1 and column_2\n",
    "    min_1 = min(column_1_copy)\n",
    "    min_2 = min(column_2_copy)\n",
    "\n",
    "    # Calculate the distance between the points and store it in the list\n",
    "    distance.append(abs(int(min_1) - int(min_2)))\n",
    "\n",
    "    # Remove the min from the columns\n",
    "    column_1_copy.remove(min_1)\n",
    "    column_2_copy.remove(min_2)"
   ]
  },
  {
   "cell_type": "code",
   "execution_count": 72,
   "metadata": {},
   "outputs": [
    {
     "name": "stdout",
     "output_type": "stream",
     "text": [
      "1223326\n"
     ]
    }
   ],
   "source": [
    "# Print the distance between the points\n",
    "print(sum(distance))"
   ]
  },
  {
   "cell_type": "markdown",
   "metadata": {},
   "source": [
    "#### Part 2"
   ]
  },
  {
   "cell_type": "code",
   "execution_count": 73,
   "metadata": {},
   "outputs": [],
   "source": [
    "# Initialize the list to store the similarity between the points\n",
    "similarity = []"
   ]
  },
  {
   "cell_type": "code",
   "execution_count": 76,
   "metadata": {},
   "outputs": [],
   "source": [
    "# Calculate the number of similar values in the columns and store it in the list\n",
    "for value in column_1:\n",
    "    similarity.append(column_2.count(value))"
   ]
  },
  {
   "cell_type": "code",
   "execution_count": null,
   "metadata": {},
   "outputs": [
    {
     "name": "stdout",
     "output_type": "stream",
     "text": [
      "792\n"
     ]
    }
   ],
   "source": [
    "# Print the similarity between the points\n",
    "print(sum(similarity))"
   ]
  },
  {
   "cell_type": "code",
   "execution_count": null,
   "metadata": {},
   "outputs": [],
   "source": []
  }
 ],
 "metadata": {
  "kernelspec": {
   "display_name": "Python 3",
   "language": "python",
   "name": "python3"
  },
  "language_info": {
   "codemirror_mode": {
    "name": "ipython",
    "version": 3
   },
   "file_extension": ".py",
   "mimetype": "text/x-python",
   "name": "python",
   "nbconvert_exporter": "python",
   "pygments_lexer": "ipython3",
   "version": "3.13.0"
  }
 },
 "nbformat": 4,
 "nbformat_minor": 2
}
